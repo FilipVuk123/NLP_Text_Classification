{
 "cells": [
  {
   "cell_type": "markdown",
   "metadata": {},
   "source": [
    "# Author Identification Problem\n",
    "    \n",
    "Student: Filip Vuković <br>\n",
    "University: Undergraduate university study programme in Mathematics and Computer Science, Osijek, Croatia <br>\n",
    "    \n",
    "## Problem\n",
    "\n",
    "Identify who of the three authors, *Edgar Allan Poe (EAP), Mary Wollstonecraft Shelley (MWS)* or *HP LoveCraft (HPL)*, is the author of a given quote <br>\n",
    "more information on <a href=\"https://www.kaggle.com/c/spooky-author-identification\">Kaggle</a>\n",
    "\n",
    "## 1. Solution 1 (using Nativ Languge Processing)\n",
    "### 1.1 Idea\n",
    "   - Load datasets\n",
    "   - Remove punctuation and stopwords\n",
    "   - Convert words into matching root forms\n",
    "   - Create *Bag of Words*\n",
    "   - Use *MultinomialNB classifier* to train data\n",
    "\n",
    "    "
   ]
  },
  {
   "cell_type": "markdown",
   "metadata": {},
   "source": [
    "We begin by importing a bunch of useful functions and python libraries."
   ]
  },
  {
   "cell_type": "code",
   "execution_count": 1,
   "metadata": {},
   "outputs": [],
   "source": [
    "import pandas # for loading csv files\n",
    "import string # for string manipulation\n",
    "import matplotlib.pyplot as plt # display data\n",
    "from nltk.corpus import stopwords # stopwords are words that do not add much meaning to a sentence\n",
    "from nltk.stem import WordNetLemmatizer # for word conversion into matching root forms\n",
    "from sklearn.feature_extraction.text import CountVectorizer # transforms documents to feature vectors\n",
    "from sklearn.naive_bayes import MultinomialNB # Naive Bayes classifier\n",
    "from sklearn.model_selection import train_test_split # split training data for testing"
   ]
  },
  {
   "cell_type": "markdown",
   "metadata": {},
   "source": [
    "Next, we define a function that processes given text as follows: First we remove punctuation and convert every word into its root form. Lastly we remove stop-words and return a list."
   ]
  },
  {
   "cell_type": "code",
   "execution_count": 2,
   "metadata": {},
   "outputs": [],
   "source": [
    "def processText(text):\n",
    "    \n",
    "    # punctuation removal\n",
    "    text = ''.join(c for c in text if c not in string.punctuation)\n",
    "    \n",
    "    # lemmatisation on verbs, nouns and adjectives\n",
    "    lemmatiser = WordNetLemmatizer() # converts words into root forms\n",
    "    \n",
    "    final, step1, step2, lemmahelp = '', '', '', ''\n",
    "    \n",
    "    for i in range(len(text.split())): # split by ' '\n",
    "        lemmahelp = lemmatiser.lemmatize(text.split()[i], pos = 'v') \n",
    "        step1 += lemmahelp + ' '\n",
    "   \n",
    "    for i in range(len(step1.split())): # split by ' '\n",
    "        lemmahelp = lemmatiser.lemmatize(step1.split()[i], pos = 'n') \n",
    "        step2 += lemmahelp + ' '\n",
    "    \n",
    "    for i in range(len(step2.split())): # split by ' '\n",
    "        lemmahelp = lemmatiser.lemmatize(step2.split()[i], pos = 'a') \n",
    "        final += lemmahelp + ' '\n",
    "        \n",
    "    # stopwords removal\n",
    "    return [w for w in final.split() if w.lower() not in stopwords.words('english')]\n"
   ]
  },
  {
   "cell_type": "markdown",
   "metadata": {},
   "source": [
    "Then we use pandas to load *.csv* files that contain our datasets. "
   ]
  },
  {
   "cell_type": "code",
   "execution_count": 3,
   "metadata": {},
   "outputs": [
    {
     "data": {
      "text/html": [
       "<div>\n",
       "<style scoped>\n",
       "    .dataframe tbody tr th:only-of-type {\n",
       "        vertical-align: middle;\n",
       "    }\n",
       "\n",
       "    .dataframe tbody tr th {\n",
       "        vertical-align: top;\n",
       "    }\n",
       "\n",
       "    .dataframe thead th {\n",
       "        text-align: right;\n",
       "    }\n",
       "</style>\n",
       "<table border=\"1\" class=\"dataframe\">\n",
       "  <thead>\n",
       "    <tr style=\"text-align: right;\">\n",
       "      <th></th>\n",
       "      <th>id</th>\n",
       "      <th>text</th>\n",
       "      <th>author</th>\n",
       "    </tr>\n",
       "  </thead>\n",
       "  <tbody>\n",
       "    <tr>\n",
       "      <th>0</th>\n",
       "      <td>id26305</td>\n",
       "      <td>This process, however, afforded me no means of...</td>\n",
       "      <td>EAP</td>\n",
       "    </tr>\n",
       "    <tr>\n",
       "      <th>1</th>\n",
       "      <td>id17569</td>\n",
       "      <td>It never once occurred to me that the fumbling...</td>\n",
       "      <td>HPL</td>\n",
       "    </tr>\n",
       "    <tr>\n",
       "      <th>2</th>\n",
       "      <td>id11008</td>\n",
       "      <td>In his left hand was a gold snuff box, from wh...</td>\n",
       "      <td>EAP</td>\n",
       "    </tr>\n",
       "    <tr>\n",
       "      <th>3</th>\n",
       "      <td>id27763</td>\n",
       "      <td>How lovely is spring As we looked from Windsor...</td>\n",
       "      <td>MWS</td>\n",
       "    </tr>\n",
       "    <tr>\n",
       "      <th>4</th>\n",
       "      <td>id12958</td>\n",
       "      <td>Finding nothing else, not even gold, the Super...</td>\n",
       "      <td>HPL</td>\n",
       "    </tr>\n",
       "  </tbody>\n",
       "</table>\n",
       "</div>"
      ],
      "text/plain": [
       "        id                                               text author\n",
       "0  id26305  This process, however, afforded me no means of...    EAP\n",
       "1  id17569  It never once occurred to me that the fumbling...    HPL\n",
       "2  id11008  In his left hand was a gold snuff box, from wh...    EAP\n",
       "3  id27763  How lovely is spring As we looked from Windsor...    MWS\n",
       "4  id12958  Finding nothing else, not even gold, the Super...    HPL"
      ]
     },
     "execution_count": 3,
     "metadata": {},
     "output_type": "execute_result"
    }
   ],
   "source": [
    "# please adjust PATHs to train.csv and test.csv\n",
    "from pathlib import Path # Path() method will convert forward slashes into the correct kind of slash for the current os\n",
    "myPath = Path(\"C:/Users/Filip/Documents/Praksa/spooky-author-identification/\")\n",
    "trainSet = pandas.read_csv(myPath / \"train.csv\")\n",
    "testSet = pandas.read_csv(myPath / \"test.csv\")\n",
    "\n",
    "trainSet.head()"
   ]
  },
  {
   "cell_type": "markdown",
   "metadata": {},
   "source": [
    "Once we load our data we need to make sure that it is balanced. That means that datasets are distributed equaly. In this case, approximately equal number of EAP, HP and MWS quotes."
   ]
  },
  {
   "cell_type": "code",
   "execution_count": 4,
   "metadata": {},
   "outputs": [
    {
     "data": {
      "text/plain": [
       "<matplotlib.axes._subplots.AxesSubplot at 0x2936f1ba208>"
      ]
     },
     "execution_count": 4,
     "metadata": {},
     "output_type": "execute_result"
    },
    {
     "data": {
      "image/png": "[encoded data removed]",
      "text/plain": [
       "<Figure size 432x288 with 1 Axes>"
      ]
     },
     "metadata": {
      "needs_background": "light"
     },
     "output_type": "display_data"
    }
   ],
   "source": [
    "X = trainSet['text']\n",
    "y = trainSet['author']\n",
    "\n",
    "y.value_counts().plot(kind = 'barh', title = 'Author - Quote Count Graph')"
   ]
  },
  {
   "cell_type": "markdown",
   "metadata": {},
   "source": [
    "From this graph we can see that our data is pretty balanced which means we don't have to fix anything. <br>\n",
    "Let's continue with splitting training data into learning data and testing data (taking 15% as testing data)."
   ]
  },
  {
   "cell_type": "code",
   "execution_count": 5,
   "metadata": {},
   "outputs": [],
   "source": [
    "# stratify strategy to balance the train set is implemented by default\n",
    "X_train, X_test, y_train, y_test = train_test_split(X, y, test_size = 0.15, random_state = 27381)"
   ]
  },
  {
   "cell_type": "markdown",
   "metadata": {},
   "source": [
    "### 1.2 Bag of Words\n",
    "We use *Bag of Words* representation because the raw data, a sequence of symbols, cannot be fed directly into the learning algorithms themselves as most of them expect numbers or some form of numerical values. In order to create numerical feature vectors we use *vectorization*."
   ]
  },
  {
   "cell_type": "markdown",
   "metadata": {},
   "source": [
    "Let's create *Bag of Words* for training and testing data"
   ]
  },
  {
   "cell_type": "code",
   "execution_count": 6,
   "metadata": {},
   "outputs": [],
   "source": [
    "# we use fit(), once, to calculate, and transform() to apply the transformation to any particular set\n",
    "\n",
    "vectorizer = CountVectorizer(analyzer = processText).fit(X_train)\n",
    "\n",
    "bag_of_words_train = vectorizer.transform(X_train) \n",
    "bag_of_words_test = vectorizer.transform(X_test)  # for accuracy calculation\n",
    "\n",
    "toTest = vectorizer.transform(testSet['text']) # for later"
   ]
  },
  {
   "cell_type": "markdown",
   "metadata": {},
   "source": [
    "### 1.3 Training\n",
    "\n",
    "Now we can train the *Multinomial Naive Bayes* classifier. *Naive Bayes* classifiers are a family of simple \"probabilistic classifiers\" based on applying *Bayes' theorem* with strong independence assumptions between the features"
   ]
  },
  {
   "cell_type": "code",
   "execution_count": 7,
   "metadata": {},
   "outputs": [],
   "source": [
    "MNBmodel = MultinomialNB().fit(bag_of_words_train, y_train)"
   ]
  },
  {
   "cell_type": "markdown",
   "metadata": {},
   "source": [
    "### 1.4 Accuracy\n",
    "We are working with balanced dataset so we can use *.score* function to calculate training and testing accuracy."
   ]
  },
  {
   "cell_type": "code",
   "execution_count": 8,
   "metadata": {},
   "outputs": [
    {
     "data": {
      "text/plain": [
       "0.9032568200937388"
      ]
     },
     "execution_count": 8,
     "metadata": {},
     "output_type": "execute_result"
    }
   ],
   "source": [
    "trainScore = MNBmodel.score(bag_of_words_train, y_train)\n",
    "trainScore"
   ]
  },
  {
   "cell_type": "code",
   "execution_count": 9,
   "metadata": {},
   "outputs": [
    {
     "data": {
      "text/plain": [
       "0.8399727613210759"
      ]
     },
     "execution_count": 9,
     "metadata": {},
     "output_type": "execute_result"
    }
   ],
   "source": [
    "testScore = MNBmodel.score(bag_of_words_test, y_test)\n",
    "testScore"
   ]
  },
  {
   "cell_type": "markdown",
   "metadata": {},
   "source": [
    "As shown above training accuracy is over 90% while testing accuracy is at 84%, making this overall an acceptable accuracy. <br>\n",
    "Let's see what results we can get using more sophisticated methods for accuracy computation. We will use *F1, recall, precision* and *log loss* tehniques."
   ]
  },
  {
   "cell_type": "code",
   "execution_count": 10,
   "metadata": {},
   "outputs": [
    {
     "name": "stdout",
     "output_type": "stream",
     "text": [
      "              precision    recall  f1-score   support\n",
      "\n",
      "         EAP       0.86      0.82      0.84      1192\n",
      "         HPL       0.85      0.83      0.84       843\n",
      "         MWS       0.80      0.88      0.84       902\n",
      "\n",
      "   micro avg       0.84      0.84      0.84      2937\n",
      "   macro avg       0.84      0.84      0.84      2937\n",
      "weighted avg       0.84      0.84      0.84      2937\n",
      "\n"
     ]
    }
   ],
   "source": [
    "from sklearn.metrics import classification_report\n",
    "\n",
    "MNBpredictions = MNBmodel.predict(bag_of_words_test)\n",
    "print(classification_report(y_test, MNBpredictions))"
   ]
  },
  {
   "cell_type": "markdown",
   "metadata": {},
   "source": [
    "Due to the fact that we have balanced dataset, our accuracy is on average the same as with *score* function. <br>\n",
    "The last tehnique is used, by <a href=\"https://www.kaggle.com/c/spooky-author-identification\"> Kaggle</a>, to evalute this particular problem.\n",
    "\n",
    "Now, let's check *Logarithic Loss* measurements"
   ]
  },
  {
   "cell_type": "code",
   "execution_count": 11,
   "metadata": {},
   "outputs": [
    {
     "data": {
      "text/plain": [
       "0.4422914439323845"
      ]
     },
     "execution_count": 11,
     "metadata": {},
     "output_type": "execute_result"
    }
   ],
   "source": [
    "from sklearn.metrics import log_loss\n",
    "prediction = MNBmodel.predict_proba(bag_of_words_test)\n",
    "log_loss(y_test, prediction)"
   ]
  },
  {
   "cell_type": "markdown",
   "metadata": {},
   "source": [
    "We should not be satisfied with this result because Logarithic Loss measures the performace of a classifier where the prediction input is a probability value in range [0, 1]. The goal is to minimize this values, a better classifier would have that value closer to 0."
   ]
  },
  {
   "cell_type": "markdown",
   "metadata": {},
   "source": [
    "### 1.5 Predicting\n",
    "This is where all the fun begins. We can now predict authors of vectorized text snipps from our test dataset"
   ]
  },
  {
   "cell_type": "code",
   "execution_count": 12,
   "metadata": {},
   "outputs": [
    {
     "name": "stdout",
     "output_type": "stream",
     "text": [
      "[0.9993] ['MWS']\n",
      "[0.9999] ['EAP']\n",
      "[0.893] ['HPL']\n",
      "[0.8978] ['HPL']\n",
      "[0.9814] ['EAP']\n"
     ]
    }
   ],
   "source": [
    "for i in range(5):\n",
    "    print(list(map(max,(MNBmodel.predict_proba(toTest[i]).round(4)))), MNBmodel.predict(toTest[i]))"
   ]
  },
  {
   "cell_type": "markdown",
   "metadata": {},
   "source": [
    "As shown above, classifier certainty is 89% at minimum for first 5 examples in test dataset <br>\n",
    "Let's try to predict some random sentence"
   ]
  },
  {
   "cell_type": "code",
   "execution_count": 13,
   "metadata": {},
   "outputs": [
    {
     "name": "stdout",
     "output_type": "stream",
     "text": [
      "[[0.14 0.63 0.24]] ['HPL']\n"
     ]
    }
   ],
   "source": [
    "sentence = [\"Luke, I''m your father!\"]\n",
    "sentence = vectorizer.transform(sentence)\n",
    "print(MNBmodel.predict_proba(sentence). round(2), MNBmodel.predict(sentence))"
   ]
  },
  {
   "cell_type": "markdown",
   "metadata": {},
   "source": [
    "In other words, 63% certainty for HPL (14% for EAP and 24% for MWS)"
   ]
  },
  {
   "cell_type": "markdown",
   "metadata": {},
   "source": [
    "## 2. Solution 2 (using Linear SVC or Support Vector Classification) \n",
    "\n",
    "Once again we first import LinearSVC then we can train it, since we have\n",
    "already prepared data and calculated everything we need."
   ]
  },
  {
   "cell_type": "code",
   "execution_count": 14,
   "metadata": {},
   "outputs": [],
   "source": [
    "from sklearn.svm import LinearSVC"
   ]
  },
  {
   "cell_type": "markdown",
   "metadata": {},
   "source": [
    "### 2.1 Training\n",
    "Let's train *LinearSVC* classifier. *LinearSVC* uses linear combinations of features for statistic classification."
   ]
  },
  {
   "cell_type": "code",
   "execution_count": 15,
   "metadata": {},
   "outputs": [],
   "source": [
    "LSVCmodel = LinearSVC().fit(bag_of_words_train, y_train)"
   ]
  },
  {
   "cell_type": "markdown",
   "metadata": {},
   "source": [
    "### 2.2 Accuracy\n",
    "We will compute accuracy just like we did with previous model"
   ]
  },
  {
   "cell_type": "code",
   "execution_count": 16,
   "metadata": {},
   "outputs": [
    {
     "data": {
      "text/plain": [
       "0.9881624804710972"
      ]
     },
     "execution_count": 16,
     "metadata": {},
     "output_type": "execute_result"
    }
   ],
   "source": [
    "LSVC_train_score = LSVCmodel.score(bag_of_words_train, y_train)\n",
    "LSVC_train_score"
   ]
  },
  {
   "cell_type": "code",
   "execution_count": 17,
   "metadata": {},
   "outputs": [
    {
     "data": {
      "text/plain": [
       "0.7980932924753149"
      ]
     },
     "execution_count": 17,
     "metadata": {},
     "output_type": "execute_result"
    }
   ],
   "source": [
    "LSVC_test_score = LSVCmodel.score(bag_of_words_test, y_test)\n",
    "LSVC_test_score"
   ]
  },
  {
   "cell_type": "markdown",
   "metadata": {},
   "source": [
    "As you can see, using *LinearSVC* model we actually lost about 4% in testing accuracy but gain 8% in training accuracy which is very interesting. Now, we calculate precision, recall and F1 scores."
   ]
  },
  {
   "cell_type": "code",
   "execution_count": 18,
   "metadata": {},
   "outputs": [
    {
     "name": "stdout",
     "output_type": "stream",
     "text": [
      "              precision    recall  f1-score   support\n",
      "\n",
      "         EAP       0.80      0.82      0.81      1192\n",
      "         HPL       0.82      0.79      0.80       843\n",
      "         MWS       0.78      0.78      0.78       902\n",
      "\n",
      "   micro avg       0.80      0.80      0.80      2937\n",
      "   macro avg       0.80      0.80      0.80      2937\n",
      "weighted avg       0.80      0.80      0.80      2937\n",
      "\n"
     ]
    }
   ],
   "source": [
    "LSVCpredictions = LSVCmodel.predict(bag_of_words_test)\n",
    "print(classification_report(y_test, LSVCpredictions))"
   ]
  },
  {
   "cell_type": "markdown",
   "metadata": {},
   "source": [
    "On average, just like when using *.score* method, we have a 4% loss in accuracy. Note that the precision and recall are quite low. Let's make some predictions and observe obvious differences."
   ]
  },
  {
   "cell_type": "markdown",
   "metadata": {},
   "source": [
    "### 2.3 Predicting\n",
    "\n",
    "Remember *toTest* is vectorized test dataset and *sentence* is \"Luke, I''m your father\"."
   ]
  },
  {
   "cell_type": "code",
   "execution_count": 19,
   "metadata": {},
   "outputs": [
    {
     "name": "stdout",
     "output_type": "stream",
     "text": [
      "['MWS']\n",
      "['HPL']\n",
      "['HPL']\n",
      "['EAP']\n",
      "['EAP']\n"
     ]
    }
   ],
   "source": [
    "for i in range(5):\n",
    "    print(LSVCmodel.predict(toTest[i]))"
   ]
  },
  {
   "cell_type": "code",
   "execution_count": 20,
   "metadata": {},
   "outputs": [
    {
     "name": "stdout",
     "output_type": "stream",
     "text": [
      "['HPL']\n"
     ]
    }
   ],
   "source": [
    "print(LSVCmodel.predict(sentence))"
   ]
  },
  {
   "cell_type": "markdown",
   "metadata": {},
   "source": [
    "Only 3 out of 5 predictions match predictions made by Multinomial Naive Bayes classifier. However, it predicted the same output for our random sentence. <br>"
   ]
  },
  {
   "cell_type": "markdown",
   "metadata": {},
   "source": [
    "## 3. Comparison (LinearSVC vs. MultinomialNB)\n",
    "Let's see how many different predictions are there."
   ]
  },
  {
   "cell_type": "code",
   "execution_count": 21,
   "metadata": {},
   "outputs": [
    {
     "data": {
      "text/plain": [
       "0.17373689227836034"
      ]
     },
     "execution_count": 21,
     "metadata": {},
     "output_type": "execute_result"
    }
   ],
   "source": [
    "count = 0\n",
    "for i in range(toTest.shape[0]):\n",
    "    if LSVCmodel.predict(toTest[i]) != MNBmodel.predict(toTest[i]):\n",
    "        count += 1\n",
    "count / toTest.shape[0]"
   ]
  },
  {
   "cell_type": "markdown",
   "metadata": {},
   "source": [
    "As you can see, 17% of all test predictions are different when comparing *LinearSVC* and *MultinomialNB classifiers*. So which classifier is more sutable for this problem? Of course, it is *MultinomialNB* because the testing data had greater accuracy."
   ]
  },
  {
   "cell_type": "markdown",
   "metadata": {},
   "source": [
    "## 4. Solution 3 (using Decision Tree Classifier)\n",
    "*Decision Tree Classifier* is a Supervised Machine Learning tehnique where the data is continuously split according to a certain parameter. <br>\n",
    "Of course, we have to import *DecisionTreeClassifier* in order to train it."
   ]
  },
  {
   "cell_type": "code",
   "execution_count": 22,
   "metadata": {},
   "outputs": [],
   "source": [
    "from sklearn.tree import DecisionTreeClassifier"
   ]
  },
  {
   "cell_type": "markdown",
   "metadata": {},
   "source": [
    "### 4.1 Training\n",
    "We already prepared data so we can just train *DecisionTreeClassifier*"
   ]
  },
  {
   "cell_type": "code",
   "execution_count": 23,
   "metadata": {},
   "outputs": [],
   "source": [
    "DTCmodel = DecisionTreeClassifier().fit(bag_of_words_train, y_train)"
   ]
  },
  {
   "cell_type": "markdown",
   "metadata": {},
   "source": [
    "### 4.2 Accuracy\n",
    "Let's calculate accuracy of our model."
   ]
  },
  {
   "cell_type": "code",
   "execution_count": 24,
   "metadata": {},
   "outputs": [
    {
     "data": {
      "text/plain": [
       "0.999699555341906"
      ]
     },
     "execution_count": 24,
     "metadata": {},
     "output_type": "execute_result"
    }
   ],
   "source": [
    "DTC_train_score = DTCmodel.score(bag_of_words_train, y_train)\n",
    "DTC_train_score"
   ]
  },
  {
   "cell_type": "code",
   "execution_count": 25,
   "metadata": {},
   "outputs": [
    {
     "data": {
      "text/plain": [
       "0.6081035069799114"
      ]
     },
     "execution_count": 25,
     "metadata": {},
     "output_type": "execute_result"
    }
   ],
   "source": [
    "DTC_test_score = DTCmodel.score(bag_of_words_test, y_test)\n",
    "DTC_test_score"
   ]
  },
  {
   "cell_type": "code",
   "execution_count": 26,
   "metadata": {},
   "outputs": [
    {
     "name": "stdout",
     "output_type": "stream",
     "text": [
      "              precision    recall  f1-score   support\n",
      "\n",
      "         EAP       0.65      0.65      0.65      1192\n",
      "         HPL       0.58      0.56      0.57       843\n",
      "         MWS       0.58      0.61      0.59       902\n",
      "\n",
      "   micro avg       0.61      0.61      0.61      2937\n",
      "   macro avg       0.60      0.60      0.60      2937\n",
      "weighted avg       0.61      0.61      0.61      2937\n",
      "\n"
     ]
    }
   ],
   "source": [
    "DTCpredictions = DTCmodel.predict(bag_of_words_test)\n",
    "print(classification_report(y_test, DTCpredictions))"
   ]
  },
  {
   "cell_type": "markdown",
   "metadata": {},
   "source": [
    "As you can see from the results above, using DecisionTreeClassifier to solve this particular problem is a bad idea because it's\n",
    "only 61% accurate. However, it has almost perfect accuracy when predicting training data, more then any other classifier we tried so far.\n",
    "### 4.3 Predicting\n",
    "Although, this model did not satisfy. We will take a look at its predictions. "
   ]
  },
  {
   "cell_type": "code",
   "execution_count": 27,
   "metadata": {},
   "outputs": [
    {
     "name": "stdout",
     "output_type": "stream",
     "text": [
      "['MWS']\n",
      "['MWS']\n",
      "['HPL']\n",
      "['MWS']\n",
      "['EAP']\n"
     ]
    }
   ],
   "source": [
    "for i in range(5):\n",
    "    print(DTCmodel.predict(toTest[i]))"
   ]
  },
  {
   "cell_type": "code",
   "execution_count": 28,
   "metadata": {},
   "outputs": [
    {
     "name": "stdout",
     "output_type": "stream",
     "text": [
      "['MWS']\n"
     ]
    }
   ],
   "source": [
    "print(DTCmodel.predict(sentence))"
   ]
  },
  {
   "cell_type": "markdown",
   "metadata": {},
   "source": [
    "## 5. Solution 4 (using Random Forest Classifier)\n",
    "*Random Forest Classifier* is a meta estimator that fits a number of *decision tree classifiers* on various sub-samples of the dataset and uses averaging to improve the predictive accuracy and control over-fitting. <br>\n",
    "Let's import *RandomForestClassifier* and train it."
   ]
  },
  {
   "cell_type": "code",
   "execution_count": 29,
   "metadata": {},
   "outputs": [],
   "source": [
    "from sklearn.ensemble import RandomForestClassifier"
   ]
  },
  {
   "cell_type": "markdown",
   "metadata": {},
   "source": [
    "### 5.1 Training"
   ]
  },
  {
   "cell_type": "code",
   "execution_count": 30,
   "metadata": {},
   "outputs": [],
   "source": [
    "RFCmodel = RandomForestClassifier(n_estimators=200).fit(bag_of_words_train, y_train) # 200 trees in the forestb"
   ]
  },
  {
   "cell_type": "markdown",
   "metadata": {},
   "source": [
    "### 5.2 Accuracy\n",
    "We will calculate the accuracy of this model just like the previous ones."
   ]
  },
  {
   "cell_type": "code",
   "execution_count": 31,
   "metadata": {},
   "outputs": [
    {
     "data": {
      "text/plain": [
       "0.999699555341906"
      ]
     },
     "execution_count": 31,
     "metadata": {},
     "output_type": "execute_result"
    }
   ],
   "source": [
    "RFC_train_score = RFCmodel.score(bag_of_words_train, y_train)\n",
    "RFC_train_score"
   ]
  },
  {
   "cell_type": "code",
   "execution_count": 32,
   "metadata": {},
   "outputs": [
    {
     "data": {
      "text/plain": [
       "0.7361252979230507"
      ]
     },
     "execution_count": 32,
     "metadata": {},
     "output_type": "execute_result"
    }
   ],
   "source": [
    "RFC_test_score = RFCmodel.score(bag_of_words_test, y_test)\n",
    "RFC_test_score"
   ]
  },
  {
   "cell_type": "code",
   "execution_count": 33,
   "metadata": {},
   "outputs": [
    {
     "name": "stdout",
     "output_type": "stream",
     "text": [
      "              precision    recall  f1-score   support\n",
      "\n",
      "         EAP       0.72      0.80      0.76      1192\n",
      "         HPL       0.79      0.64      0.71       843\n",
      "         MWS       0.73      0.74      0.73       902\n",
      "\n",
      "   micro avg       0.74      0.74      0.74      2937\n",
      "   macro avg       0.74      0.73      0.73      2937\n",
      "weighted avg       0.74      0.74      0.73      2937\n",
      "\n"
     ]
    }
   ],
   "source": [
    "RFCpredictions = RFCmodel.predict(bag_of_words_test)\n",
    "print(classification_report(y_test, RFCpredictions))"
   ]
  },
  {
   "cell_type": "markdown",
   "metadata": {},
   "source": [
    "Since *Random Forest Classifier* works with multiple *Decision Tree Classifiers* it's not uncommon that the training data accuracy is pretty much the same. But the testing data accuracy is 10% higher making this model a much better choice."
   ]
  },
  {
   "cell_type": "markdown",
   "metadata": {},
   "source": [
    "### 5.3 Prediciting\n",
    "As usual we will predict first 5 quotes in test dataset and one random sentance"
   ]
  },
  {
   "cell_type": "code",
   "execution_count": 34,
   "metadata": {},
   "outputs": [
    {
     "name": "stdout",
     "output_type": "stream",
     "text": [
      "[0.865] ['MWS']\n",
      "[0.37] ['EAP']\n",
      "[0.615] ['HPL']\n",
      "[0.435] ['MWS']\n",
      "[0.8179] ['EAP']\n"
     ]
    }
   ],
   "source": [
    "for i in range(5):\n",
    "    print(list(map(max,(RFCmodel.predict_proba(toTest[i]).round(4)))), RFCmodel.predict(toTest[i]))"
   ]
  },
  {
   "cell_type": "code",
   "execution_count": 35,
   "metadata": {},
   "outputs": [
    {
     "name": "stdout",
     "output_type": "stream",
     "text": [
      "[0.755] ['MWS']\n"
     ]
    }
   ],
   "source": [
    "print(list(map(max,(RFCmodel.predict_proba(sentence).round(4)))), RFCmodel.predict(sentence))"
   ]
  },
  {
   "cell_type": "markdown",
   "metadata": {},
   "source": [
    "## 6. Comparison (DecisionTree vs RandomForest)\n",
    "I'm curious what are the prediction differences between DecisionTreeClassifier and RandomForestClassier"
   ]
  },
  {
   "cell_type": "code",
   "execution_count": 36,
   "metadata": {},
   "outputs": [
    {
     "data": {
      "text/plain": [
       "0.2651334604385129"
      ]
     },
     "execution_count": 36,
     "metadata": {},
     "output_type": "execute_result"
    }
   ],
   "source": [
    "count = 0\n",
    "for i in range(toTest.shape[0]):\n",
    "    if RFCmodel.predict(toTest[i]) != DTCmodel.predict(toTest[i]):\n",
    "        count += 1\n",
    "count / toTest.shape[0]"
   ]
  },
  {
   "cell_type": "markdown",
   "metadata": {},
   "source": [
    "27% is a big difference."
   ]
  },
  {
   "cell_type": "markdown",
   "metadata": {},
   "source": [
    "## 7. Solution 5 (using Support Vector Machines - with linear, RBF and polinominal kernel)\n",
    "Support vector machines are a set of supervised learining methods used for classification, regression and outliers detection.\n",
    "### 7.1 Idea\n",
    "Since every model has its own parameters, first we have to choose the optimal one with the best hypothesis or function inside that particular model. In order to find optimal model we will use a technique called *GridSearch cross-validation*. <br>\n",
    "This time we will divide our training dataset into 3 subsets: 1. training, 2. validation, 3. testing. As always, we use training subset to train models but this time we will train them multiple times, using *GridSearchCV*, with different parameters in order to get optimal parameters for each model. <br>\n",
    "Once we've done that, we select the best model. <br>\n",
    "Now, we can train that selected model again on training and validation subsets, with optimal parameters we got before. Then we test it using testing subset. <br>\n",
    "Once that is finished, we train our model on train dataset from the beginning and make predictions on test dataset."
   ]
  },
  {
   "cell_type": "markdown",
   "metadata": {},
   "source": [
    "Importing needed libraries"
   ]
  },
  {
   "cell_type": "code",
   "execution_count": 37,
   "metadata": {},
   "outputs": [],
   "source": [
    "from sklearn import svm\n",
    "from sklearn.model_selection import GridSearchCV"
   ]
  },
  {
   "cell_type": "markdown",
   "metadata": {},
   "source": [
    "Next, we divide training dataset. We will take 75% for training, 15% for validation and 10% for testing."
   ]
  },
  {
   "cell_type": "code",
   "execution_count": 38,
   "metadata": {},
   "outputs": [],
   "source": [
    "X_train, X_test, y_train, y_test = train_test_split(X, y, test_size = 0.25, random_state = 12412)\n",
    "X_validation, X_test, y_validation, y_test = train_test_split(X_test, y_test, test_size = 0.1/(0.1+0.15), random_state = 44815)"
   ]
  },
  {
   "cell_type": "markdown",
   "metadata": {},
   "source": [
    "We can not possibly work with string. So one again we have to vectorize our datasets."
   ]
  },
  {
   "cell_type": "code",
   "execution_count": 39,
   "metadata": {},
   "outputs": [],
   "source": [
    "vectorizer = CountVectorizer(analyzer = processText).fit(X_train)\n",
    "\n",
    "bag_of_words_train = vectorizer.transform(X_train) \n",
    "bag_of_words_validation = vectorizer.transform(X_validation) \n",
    "bag_of_words_test = vectorizer.transform(X_test)"
   ]
  },
  {
   "cell_type": "markdown",
   "metadata": {},
   "source": [
    "### 7.2 Searching for optimal parameters\n",
    "Let's use *GridSearchCV* to generate optimal parametars"
   ]
  },
  {
   "cell_type": "code",
   "execution_count": 40,
   "metadata": {},
   "outputs": [],
   "source": [
    "import multiprocessing\n",
    "maxJobs = multiprocessing.cpu_count()"
   ]
  },
  {
   "cell_type": "code",
   "execution_count": 41,
   "metadata": {
    "scrolled": true
   },
   "outputs": [
    {
     "name": "stdout",
     "output_type": "stream",
     "text": [
      "SVC(C=0.1, cache_size=200, class_weight=None, coef0=0.0,\n",
      "  decision_function_shape='ovr', degree=3, gamma='auto_deprecated',\n",
      "  kernel='linear', max_iter=-1, probability=False, random_state=None,\n",
      "  shrinking=True, tol=0.001, verbose=False)\n"
     ]
    }
   ],
   "source": [
    "SVCmodel = svm.SVC()\n",
    "\n",
    "parameters = {\n",
    "    'kernel' : ['linear'],\n",
    "    'C': [0.1, 1, 10, 100, 1000]\n",
    "}\n",
    "\n",
    "linearGrid = GridSearchCV(estimator = SVCmodel,\n",
    "                      param_grid = parameters,\n",
    "                      scoring = 'accuracy',\n",
    "                      cv = 5,\n",
    "                      n_jobs = maxJobs) # using all local processors\n",
    "\n",
    "linearGrid.fit(bag_of_words_train, y_train)\n",
    "print(linearGrid.best_estimator_)"
   ]
  },
  {
   "cell_type": "code",
   "execution_count": 42,
   "metadata": {},
   "outputs": [
    {
     "name": "stdout",
     "output_type": "stream",
     "text": [
      "0.7749404153898536\n"
     ]
    }
   ],
   "source": [
    "print(linearGrid.score(bag_of_words_validation, y_validation))"
   ]
  },
  {
   "cell_type": "code",
   "execution_count": 43,
   "metadata": {},
   "outputs": [
    {
     "name": "stdout",
     "output_type": "stream",
     "text": [
      "SVC(C=100, cache_size=200, class_weight=None, coef0=0.0,\n",
      "  decision_function_shape='ovr', degree=3, gamma=0.001, kernel='rbf',\n",
      "  max_iter=-1, probability=False, random_state=None, shrinking=True,\n",
      "  tol=0.001, verbose=False)\n"
     ]
    }
   ],
   "source": [
    "parameters = {\n",
    "    'kernel' : ['rbf'],\n",
    "    'C': [0.1, 1, 10, 100, 1000],\n",
    "    'gamma': [1, 0.1, 0.01, 0.001, 0.0001]\n",
    "}\n",
    "\n",
    "rbfGrid = GridSearchCV(estimator = SVCmodel,\n",
    "                      param_grid = parameters,\n",
    "                      scoring = 'accuracy',\n",
    "                      cv = 5,\n",
    "                      n_jobs = maxJobs)\n",
    "\n",
    "rbfGrid.fit(bag_of_words_train, y_train)\n",
    "print(rbfGrid.best_estimator_)"
   ]
  },
  {
   "cell_type": "code",
   "execution_count": 44,
   "metadata": {},
   "outputs": [
    {
     "name": "stdout",
     "output_type": "stream",
     "text": [
      "0.7824310520939735\n"
     ]
    }
   ],
   "source": [
    "print(rbfGrid.score(bag_of_words_validation, y_validation))"
   ]
  },
  {
   "cell_type": "code",
   "execution_count": 45,
   "metadata": {},
   "outputs": [
    {
     "name": "stdout",
     "output_type": "stream",
     "text": [
      "SVC(C=1, cache_size=200, class_weight=None, coef0=0.0,\n",
      "  decision_function_shape='ovr', degree=3, gamma=1, kernel='poly',\n",
      "  max_iter=-1, probability=False, random_state=None, shrinking=True,\n",
      "  tol=0.001, verbose=False)\n"
     ]
    }
   ],
   "source": [
    "parameters = {\n",
    "    'kernel' : ['poly'],\n",
    "    'C': [0.1, 1, 10, 100, 1000],\n",
    "    'gamma': [1, 0.1, 0.01, 0.001, 0.0001]\n",
    "}\n",
    "\n",
    "polyGrid = GridSearchCV(estimator = SVCmodel,\n",
    "                      param_grid = parameters,\n",
    "                      scoring = 'accuracy',\n",
    "                      cv = 5,\n",
    "                      n_jobs = maxJobs)\n",
    "\n",
    "polyGrid.fit(bag_of_words_train, y_train)\n",
    "print(polyGrid.best_estimator_)"
   ]
  },
  {
   "cell_type": "code",
   "execution_count": 46,
   "metadata": {},
   "outputs": [
    {
     "name": "stdout",
     "output_type": "stream",
     "text": [
      "0.5236636023152877\n"
     ]
    }
   ],
   "source": [
    "print(polyGrid.score(bag_of_words_validation, y_validation))"
   ]
  },
  {
   "cell_type": "markdown",
   "metadata": {},
   "source": [
    "We now clearly select SVC with RBF kernel because it has the best accuracy score of 78%. <br>\n",
    "### 7.3 Preparing datasets\n",
    "So let's join training and validation datasets in order to train our model again but with optimal parameters."
   ]
  },
  {
   "cell_type": "code",
   "execution_count": 47,
   "metadata": {},
   "outputs": [],
   "source": [
    "X_train.append(X_validation)\n",
    "y_train.append(y_validation);"
   ]
  },
  {
   "cell_type": "code",
   "execution_count": 48,
   "metadata": {},
   "outputs": [],
   "source": [
    "RBFmodel = svm.SVC(C=100, cache_size=200, class_weight=None, coef0=0.0,\n",
    "  decision_function_shape='ovr', degree=3, gamma=0.001, kernel='rbf',\n",
    "  max_iter=-1, probability=False, random_state=None, shrinking=True,\n",
    "  tol=0.001, verbose=False)"
   ]
  },
  {
   "cell_type": "code",
   "execution_count": 49,
   "metadata": {},
   "outputs": [],
   "source": [
    "vectorizer = CountVectorizer(analyzer = processText).fit(X_train)\n",
    "bag_of_words_train_rbf = vectorizer.transform(X_train) "
   ]
  },
  {
   "cell_type": "markdown",
   "metadata": {},
   "source": [
    "### 7.4 Training and accuracy computation\n",
    "Now that we prepared our datasets. We train our model, test it and see accuracy scores."
   ]
  },
  {
   "cell_type": "code",
   "execution_count": 50,
   "metadata": {},
   "outputs": [
    {
     "data": {
      "text/plain": [
       "SVC(C=100, cache_size=200, class_weight=None, coef0=0.0,\n",
       "  decision_function_shape='ovr', degree=3, gamma=0.001, kernel='rbf',\n",
       "  max_iter=-1, probability=False, random_state=None, shrinking=True,\n",
       "  tol=0.001, verbose=False)"
      ]
     },
     "execution_count": 50,
     "metadata": {},
     "output_type": "execute_result"
    }
   ],
   "source": [
    "RBFmodel.fit(bag_of_words_train_rbf, y_train)"
   ]
  },
  {
   "cell_type": "code",
   "execution_count": 51,
   "metadata": {},
   "outputs": [
    {
     "name": "stdout",
     "output_type": "stream",
     "text": [
      "              precision    recall  f1-score   support\n",
      "\n",
      "         EAP       0.72      0.86      0.79       760\n",
      "         HPL       0.86      0.72      0.78       623\n",
      "         MWS       0.80      0.74      0.77       575\n",
      "\n",
      "   micro avg       0.78      0.78      0.78      1958\n",
      "   macro avg       0.80      0.77      0.78      1958\n",
      "weighted avg       0.79      0.78      0.78      1958\n",
      "\n"
     ]
    }
   ],
   "source": [
    "RBFpredictions = RBFmodel.predict(bag_of_words_test)\n",
    "print(classification_report(y_test, RBFpredictions))"
   ]
  },
  {
   "cell_type": "markdown",
   "metadata": {},
   "source": [
    "We got pretty solid accuracy of 78/79%. "
   ]
  },
  {
   "cell_type": "markdown",
   "metadata": {},
   "source": [
    "## 8. Conclusion \n",
    "We created, trained and tested a bunch of different classifiers and used accuracy scores to determine the best one. The *Multinomial Naive Bayes* classifier had the highest accuracy score therefore it is the best choice. <br>\n",
    "Next thing we could do is train that classifier again on our training dataset, make predictions on testing dataset and save them in *.csv* files. One solution and the other for submission to Kaggle."
   ]
  },
  {
   "cell_type": "code",
   "execution_count": 52,
   "metadata": {},
   "outputs": [],
   "source": [
    "finalVectorizer = CountVectorizer(analyzer = processText).fit(X) \n",
    "finalBag = finalVectorizer.transform(X)\n",
    "finalModel = MultinomialNB().fit(finalBag, y)\n",
    "finalTest = finalVectorizer.transform(testSet['text'])"
   ]
  },
  {
   "cell_type": "markdown",
   "metadata": {},
   "source": [
    "Let's create *solution.csv* and *submission.csv* files"
   ]
  },
  {
   "cell_type": "code",
   "execution_count": 53,
   "metadata": {},
   "outputs": [],
   "source": [
    "finalPredicions = finalModel.predict(finalTest)"
   ]
  },
  {
   "cell_type": "code",
   "execution_count": 54,
   "metadata": {},
   "outputs": [],
   "source": [
    "solution = pandas.DataFrame({'Quote': testSet['text'], 'Predicted author': finalPredicions})\n",
    "\n",
    "solution.to_csv('solution.csv',index=False, encoding='utf-8')"
   ]
  },
  {
   "cell_type": "code",
   "execution_count": 55,
   "metadata": {},
   "outputs": [],
   "source": [
    "finalProbas = finalModel.predict_proba(finalTest)"
   ]
  },
  {
   "cell_type": "code",
   "execution_count": 56,
   "metadata": {},
   "outputs": [],
   "source": [
    "EAP = finalProbas[:,0]\n",
    "HPL = finalProbas[:,1]\n",
    "MWS = finalProbas[:,2]"
   ]
  },
  {
   "cell_type": "code",
   "execution_count": 57,
   "metadata": {},
   "outputs": [],
   "source": [
    "submission = pandas.DataFrame({'id':testSet['id'], 'EAP':EAP, 'HPL':HPL, 'MWS':MWS})\n",
    "\n",
    "submission.to_csv('submission.csv',index=False, encoding='utf-8')"
   ]
  },
  {
   "attachments": {
    "image.png": {
     "image/png": "[encoded data removed]"
    }
   },
   "cell_type": "markdown",
   "metadata": {},
   "source": [
    "After submitting the file to Kaggle. ![image.png](attachment:image.png) <br>\n",
    "We got 0.45 score. Since Kaggle evaluates results using *log loss* tehnique, this is a good result."
   ]
  },
  {
   "cell_type": "markdown",
   "metadata": {},
   "source": [
    "At the end. We deploy our final model as web service. <br>\n",
    "## 9. Web service\n",
    "We deploy our model and vectorizer in order to use them in our web service as an example of how we can use these trained models."
   ]
  },
  {
   "cell_type": "code",
   "execution_count": 58,
   "metadata": {},
   "outputs": [
    {
     "data": {
      "text/plain": [
       "['model.pkl']"
      ]
     },
     "execution_count": 58,
     "metadata": {},
     "output_type": "execute_result"
    }
   ],
   "source": [
    "from sklearn.externals import joblib\n",
    "\n",
    "joblib.dump(finalModel, 'model.pkl')"
   ]
  },
  {
   "cell_type": "code",
   "execution_count": 59,
   "metadata": {},
   "outputs": [],
   "source": [
    "import pickle\n",
    "\n",
    "pickle.dump(finalVectorizer, open('vectorizer.pkl', 'wb'))"
   ]
  },
  {
   "cell_type": "markdown",
   "metadata": {},
   "source": [
    "Next, we create web service using python library - flask."
   ]
  },
  {
   "cell_type": "code",
   "execution_count": 60,
   "metadata": {},
   "outputs": [],
   "source": [
    "import flask\n",
    "import os\n",
    "import pickle\n",
    "import string\n",
    "from nltk.corpus import stopwords\n",
    "from nltk.stem import WordNetLemmatizer \n",
    "from sklearn.externals import joblib\n",
    "\n",
    "app = flask.Flask(__name__)\n",
    "port = int(os.getenv(\"PORT\", 9090))\n",
    "\n",
    "def processText(text):\n",
    "    \n",
    "    # punctuation removal\n",
    "    text = ''.join(c for c in text if c not in string.punctuation)\n",
    "    \n",
    "    # lemmatisation on verbs, nouns and adjectives\n",
    "    lemmatiser = WordNetLemmatizer() # converts words into root forms\n",
    "    \n",
    "    final, step1, step2, lemmahelp = '', '', '', ''\n",
    "    \n",
    "    for i in range(len(text.split())): # split by ' '\n",
    "        lemmahelp = lemmatiser.lemmatize(text.split()[i], pos = 'v') \n",
    "        step1 += lemmahelp + ' '\n",
    "   \n",
    "    for i in range(len(step1.split())): # split by ' '\n",
    "        lemmahelp = lemmatiser.lemmatize(step1.split()[i], pos = 'n') \n",
    "        step2 += lemmahelp + ' '\n",
    "    \n",
    "    for i in range(len(step2.split())): # split by ' '\n",
    "        lemmahelp = lemmatiser.lemmatize(step2.split()[i], pos = 'a') \n",
    "        final += lemmahelp + ' '\n",
    "        \n",
    "    # stopwords removal\n",
    "    return [w for w in final.split() if w.lower() not in stopwords.words('english')]\n",
    "\n",
    "model = joblib.load(open(\"model.pkl\", \"rb\"))\n",
    "vectorizer = pickle.load(open(\"vectorizer.pkl\", \"rb\"))\n",
    "\n",
    "@app.route('/', methods=['GET'])\n",
    "def hello():\n",
    "   return \"Hello world!\"\n",
    "\n",
    "@app.route('/predict', methods=['POST'])\n",
    "def predict():\n",
    "    quote = flask.request.get_json(force=True)['quote']\n",
    "    print(\"quote = \", quote)\n",
    "    quote = vectorizer.transform([quote])\n",
    "\n",
    "    prediction = model.predict(quote)\n",
    "    print(prediction)\n",
    "    return flask.jsonify(prediction[0])"
   ]
  },
  {
   "cell_type": "markdown",
   "metadata": {},
   "source": [
    "After running our app, we use the following command in Windows PowerShell to test quotes:<br>\n",
    "*Invoke-RestMethod -Method POST -Uri http://localhost:9090/predict -Body '{\"quote\":\"Type A Quote Here\"}'* <br>\n",
    "We can stop the following cell by pressing -i- twice."
   ]
  },
  {
   "cell_type": "code",
   "execution_count": 61,
   "metadata": {},
   "outputs": [
    {
     "name": "stdout",
     "output_type": "stream",
     "text": [
      " * Serving Flask app \"__main__\" (lazy loading)\n",
      " * Environment: production\n",
      "   WARNING: Do not use the development server in a production environment.\n",
      "   Use a production WSGI server instead.\n",
      " * Debug mode: off\n"
     ]
    },
    {
     "name": "stderr",
     "output_type": "stream",
     "text": [
      " * Running on http://127.0.0.1:9090/ (Press CTRL+C to quit)\n",
      "127.0.0.1 - - [18/Aug/2020 03:04:26] \"\u001b[37mPOST /predict HTTP/1.1\u001b[0m\" 200 -\n"
     ]
    },
    {
     "name": "stdout",
     "output_type": "stream",
     "text": [
      "quote =  The visits of Merrival to Windsor, before frequent, had suddenly ceased.\n",
      "['MWS']\n"
     ]
    },
    {
     "name": "stderr",
     "output_type": "stream",
     "text": [
      "127.0.0.1 - - [18/Aug/2020 03:04:30] \"\u001b[37mPOST /predict HTTP/1.1\u001b[0m\" 200 -\n"
     ]
    },
    {
     "name": "stdout",
     "output_type": "stream",
     "text": [
      "quote =  Their operation, whatever that operation should prove to be, must necessarily have reference to the eye of the spectator.\n",
      "['EAP']\n"
     ]
    },
    {
     "name": "stderr",
     "output_type": "stream",
     "text": [
      "127.0.0.1 - - [18/Aug/2020 03:04:44] \"\u001b[37mPOST /predict HTTP/1.1\u001b[0m\" 200 -\n"
     ]
    },
    {
     "name": "stdout",
     "output_type": "stream",
     "text": [
      "quote =  I am miserable, and they shall share my wretchedness.\n",
      "['MWS']\n"
     ]
    },
    {
     "name": "stderr",
     "output_type": "stream",
     "text": [
      "127.0.0.1 - - [18/Aug/2020 03:04:59] \"\u001b[37mPOST /predict HTTP/1.1\u001b[0m\" 200 -\n"
     ]
    },
    {
     "name": "stdout",
     "output_type": "stream",
     "text": [
      "quote =  be it your care to render her worthy of him, so that, when she glory in her origin, she take not shame for what she is.\n",
      "['MWS']\n"
     ]
    },
    {
     "name": "stderr",
     "output_type": "stream",
     "text": [
      "127.0.0.1 - - [18/Aug/2020 03:05:22] \"\u001b[37mPOST /predict HTTP/1.1\u001b[0m\" 200 -\n"
     ]
    },
    {
     "name": "stdout",
     "output_type": "stream",
     "text": [
      "quote =  Much of the material which I correlated will be later published by the American Archaeological Society, but there was one box which I found exceedingly puzzling, and which I felt much averse from shewing to other eyes.\n",
      "['HPL']\n"
     ]
    }
   ],
   "source": [
    "app.run(host='127.0.0.1', port=port)"
   ]
  },
  {
   "cell_type": "markdown",
   "metadata": {},
   "source": [
    "See more of web service part in *app.py* and *deploy.py*."
   ]
  }
 ],
 "metadata": {
  "kernelspec": {
   "display_name": "Python 3",
   "language": "python",
   "name": "python3"
  },
  "language_info": {
   "codemirror_mode": {
    "name": "ipython",
    "version": 3
   },
   "file_extension": ".py",
   "mimetype": "text/x-python",
   "name": "python",
   "nbconvert_exporter": "python",
   "pygments_lexer": "ipython3",
   "version": "3.7.1"
  }
 },
 "nbformat": 4,
 "nbformat_minor": 2
}
